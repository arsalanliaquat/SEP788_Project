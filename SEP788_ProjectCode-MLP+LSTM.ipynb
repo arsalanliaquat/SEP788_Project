{
  "nbformat": 4,
  "nbformat_minor": 0,
  "metadata": {
    "colab": {
      "name": "SEP788_ProjectCode-MLP+LSTM.ipynb",
      "provenance": [],
      "collapsed_sections": [],
      "include_colab_link": true
    },
    "kernelspec": {
      "name": "python3",
      "display_name": "Python 3"
    },
    "language_info": {
      "name": "python"
    },
    "accelerator": "GPU"
  },
  "cells": [
    {
      "cell_type": "markdown",
      "metadata": {
        "id": "view-in-github",
        "colab_type": "text"
      },
      "source": [
        "<a href=\"https://colab.research.google.com/github/arsalanliaquat/SEP788_Project/blob/main/SEP788_ProjectCode-MLP%2BLSTM.ipynb\" target=\"_parent\"><img src=\"https://colab.research.google.com/assets/colab-badge.svg\" alt=\"Open In Colab\"/></a>"
      ]
    },
    {
      "cell_type": "code",
      "execution_count": null,
      "metadata": {
        "id": "M2zhHbmlhUpN"
      },
      "outputs": [],
      "source": [
        "import numpy as np\n",
        "import pandas as pd\n",
        "import time\n",
        "# pyplot plt\n",
        "import matplotlib.pyplot as plt\n",
        "# metrics\n",
        "from sklearn import metrics\n",
        "# ignore non-error warnings\n",
        "import warnings\n",
        "warnings.filterwarnings('ignore')"
      ]
    },
    {
      "cell_type": "code",
      "source": [
        "# Test Train model selection, cross validation score\n",
        "from sklearn.model_selection import train_test_split, cross_val_score\n",
        "# mean_absolute_error, mean_squared_error\n",
        "from sklearn.metrics import mean_absolute_error, mean_squared_error\n",
        "# precision_score, recall_score, confusion_matrix, accuracy_score, f1_score\n",
        "from sklearn.metrics import precision_score, recall_score, confusion_matrix, accuracy_score, f1_score, classification_report\n",
        "\n",
        "# K-Nearest Neighbors\n",
        "from sklearn.neighbors import KNeighborsClassifier\n",
        "# Gaussian Naive Bayes\n",
        "from sklearn.naive_bayes import GaussianNB\n",
        "# Support Vector Machine SVM\n",
        "from sklearn.svm import SVC\n",
        "# Fishers Linear Discriminant FLD\n",
        "from sklearn.discriminant_analysis import LinearDiscriminantAnalysis\n",
        "# LogisticRegression\n",
        "from sklearn.linear_model import LogisticRegression"
      ],
      "metadata": {
        "id": "HreVFNgBOCGX"
      },
      "execution_count": null,
      "outputs": []
    },
    {
      "cell_type": "code",
      "source": [
        "# data=np.loadtxt(\"data_banknote_authentication.txt\", delimiter=',')\n",
        "data = pd.read_table('data_banknote_authentication.txt', delimiter=',', usecols=[0,1,2,3,4], names=['variance', 'skewness', 'curtosis', 'entropy', 'isAuthentic' ], header=None)\n",
        "data.head()"
      ],
      "metadata": {
        "id": "7INwf286hr-3",
        "colab": {
          "base_uri": "https://localhost:8080/",
          "height": 206
        },
        "outputId": "2a8459a5-4ef8-428a-b58f-76151142ea57"
      },
      "execution_count": null,
      "outputs": [
        {
          "output_type": "execute_result",
          "data": {
            "text/plain": [
              "   variance  skewness  curtosis  entropy  isAuthentic\n",
              "0   3.62160    8.6661   -2.8073 -0.44699            0\n",
              "1   4.54590    8.1674   -2.4586 -1.46210            0\n",
              "2   3.86600   -2.6383    1.9242  0.10645            0\n",
              "3   3.45660    9.5228   -4.0112 -3.59440            0\n",
              "4   0.32924   -4.4552    4.5718 -0.98880            0"
            ],
            "text/html": [
              "\n",
              "  <div id=\"df-222b2acd-1ec2-49a7-90ec-7c50ec5eedb7\">\n",
              "    <div class=\"colab-df-container\">\n",
              "      <div>\n",
              "<style scoped>\n",
              "    .dataframe tbody tr th:only-of-type {\n",
              "        vertical-align: middle;\n",
              "    }\n",
              "\n",
              "    .dataframe tbody tr th {\n",
              "        vertical-align: top;\n",
              "    }\n",
              "\n",
              "    .dataframe thead th {\n",
              "        text-align: right;\n",
              "    }\n",
              "</style>\n",
              "<table border=\"1\" class=\"dataframe\">\n",
              "  <thead>\n",
              "    <tr style=\"text-align: right;\">\n",
              "      <th></th>\n",
              "      <th>variance</th>\n",
              "      <th>skewness</th>\n",
              "      <th>curtosis</th>\n",
              "      <th>entropy</th>\n",
              "      <th>isAuthentic</th>\n",
              "    </tr>\n",
              "  </thead>\n",
              "  <tbody>\n",
              "    <tr>\n",
              "      <th>0</th>\n",
              "      <td>3.62160</td>\n",
              "      <td>8.6661</td>\n",
              "      <td>-2.8073</td>\n",
              "      <td>-0.44699</td>\n",
              "      <td>0</td>\n",
              "    </tr>\n",
              "    <tr>\n",
              "      <th>1</th>\n",
              "      <td>4.54590</td>\n",
              "      <td>8.1674</td>\n",
              "      <td>-2.4586</td>\n",
              "      <td>-1.46210</td>\n",
              "      <td>0</td>\n",
              "    </tr>\n",
              "    <tr>\n",
              "      <th>2</th>\n",
              "      <td>3.86600</td>\n",
              "      <td>-2.6383</td>\n",
              "      <td>1.9242</td>\n",
              "      <td>0.10645</td>\n",
              "      <td>0</td>\n",
              "    </tr>\n",
              "    <tr>\n",
              "      <th>3</th>\n",
              "      <td>3.45660</td>\n",
              "      <td>9.5228</td>\n",
              "      <td>-4.0112</td>\n",
              "      <td>-3.59440</td>\n",
              "      <td>0</td>\n",
              "    </tr>\n",
              "    <tr>\n",
              "      <th>4</th>\n",
              "      <td>0.32924</td>\n",
              "      <td>-4.4552</td>\n",
              "      <td>4.5718</td>\n",
              "      <td>-0.98880</td>\n",
              "      <td>0</td>\n",
              "    </tr>\n",
              "  </tbody>\n",
              "</table>\n",
              "</div>\n",
              "      <button class=\"colab-df-convert\" onclick=\"convertToInteractive('df-222b2acd-1ec2-49a7-90ec-7c50ec5eedb7')\"\n",
              "              title=\"Convert this dataframe to an interactive table.\"\n",
              "              style=\"display:none;\">\n",
              "        \n",
              "  <svg xmlns=\"http://www.w3.org/2000/svg\" height=\"24px\"viewBox=\"0 0 24 24\"\n",
              "       width=\"24px\">\n",
              "    <path d=\"M0 0h24v24H0V0z\" fill=\"none\"/>\n",
              "    <path d=\"M18.56 5.44l.94 2.06.94-2.06 2.06-.94-2.06-.94-.94-2.06-.94 2.06-2.06.94zm-11 1L8.5 8.5l.94-2.06 2.06-.94-2.06-.94L8.5 2.5l-.94 2.06-2.06.94zm10 10l.94 2.06.94-2.06 2.06-.94-2.06-.94-.94-2.06-.94 2.06-2.06.94z\"/><path d=\"M17.41 7.96l-1.37-1.37c-.4-.4-.92-.59-1.43-.59-.52 0-1.04.2-1.43.59L10.3 9.45l-7.72 7.72c-.78.78-.78 2.05 0 2.83L4 21.41c.39.39.9.59 1.41.59.51 0 1.02-.2 1.41-.59l7.78-7.78 2.81-2.81c.8-.78.8-2.07 0-2.86zM5.41 20L4 18.59l7.72-7.72 1.47 1.35L5.41 20z\"/>\n",
              "  </svg>\n",
              "      </button>\n",
              "      \n",
              "  <style>\n",
              "    .colab-df-container {\n",
              "      display:flex;\n",
              "      flex-wrap:wrap;\n",
              "      gap: 12px;\n",
              "    }\n",
              "\n",
              "    .colab-df-convert {\n",
              "      background-color: #E8F0FE;\n",
              "      border: none;\n",
              "      border-radius: 50%;\n",
              "      cursor: pointer;\n",
              "      display: none;\n",
              "      fill: #1967D2;\n",
              "      height: 32px;\n",
              "      padding: 0 0 0 0;\n",
              "      width: 32px;\n",
              "    }\n",
              "\n",
              "    .colab-df-convert:hover {\n",
              "      background-color: #E2EBFA;\n",
              "      box-shadow: 0px 1px 2px rgba(60, 64, 67, 0.3), 0px 1px 3px 1px rgba(60, 64, 67, 0.15);\n",
              "      fill: #174EA6;\n",
              "    }\n",
              "\n",
              "    [theme=dark] .colab-df-convert {\n",
              "      background-color: #3B4455;\n",
              "      fill: #D2E3FC;\n",
              "    }\n",
              "\n",
              "    [theme=dark] .colab-df-convert:hover {\n",
              "      background-color: #434B5C;\n",
              "      box-shadow: 0px 1px 3px 1px rgba(0, 0, 0, 0.15);\n",
              "      filter: drop-shadow(0px 1px 2px rgba(0, 0, 0, 0.3));\n",
              "      fill: #FFFFFF;\n",
              "    }\n",
              "  </style>\n",
              "\n",
              "      <script>\n",
              "        const buttonEl =\n",
              "          document.querySelector('#df-222b2acd-1ec2-49a7-90ec-7c50ec5eedb7 button.colab-df-convert');\n",
              "        buttonEl.style.display =\n",
              "          google.colab.kernel.accessAllowed ? 'block' : 'none';\n",
              "\n",
              "        async function convertToInteractive(key) {\n",
              "          const element = document.querySelector('#df-222b2acd-1ec2-49a7-90ec-7c50ec5eedb7');\n",
              "          const dataTable =\n",
              "            await google.colab.kernel.invokeFunction('convertToInteractive',\n",
              "                                                     [key], {});\n",
              "          if (!dataTable) return;\n",
              "\n",
              "          const docLinkHtml = 'Like what you see? Visit the ' +\n",
              "            '<a target=\"_blank\" href=https://colab.research.google.com/notebooks/data_table.ipynb>data table notebook</a>'\n",
              "            + ' to learn more about interactive tables.';\n",
              "          element.innerHTML = '';\n",
              "          dataTable['output_type'] = 'display_data';\n",
              "          await google.colab.output.renderOutput(dataTable, element);\n",
              "          const docLink = document.createElement('div');\n",
              "          docLink.innerHTML = docLinkHtml;\n",
              "          element.appendChild(docLink);\n",
              "        }\n",
              "      </script>\n",
              "    </div>\n",
              "  </div>\n",
              "  "
            ]
          },
          "metadata": {},
          "execution_count": 170
        }
      ]
    },
    {
      "cell_type": "code",
      "source": [
        "print(data.shape)"
      ],
      "metadata": {
        "colab": {
          "base_uri": "https://localhost:8080/"
        },
        "id": "8KdFzTXKh6So",
        "outputId": "48b4584c-3ab4-4d56-e39d-c10017a7afc2"
      },
      "execution_count": null,
      "outputs": [
        {
          "output_type": "stream",
          "name": "stdout",
          "text": [
            "(1372, 5)\n"
          ]
        }
      ]
    },
    {
      "cell_type": "code",
      "source": [
        "# Define Feature\n",
        "Features = ['variance', 'skewness', 'curtosis', 'entropy']\n",
        "print('Full Features: ', Features)\n",
        "\n",
        "# Define Target\n",
        "Target = ['isAuthentic']\n",
        "print('Target: ', Target)"
      ],
      "metadata": {
        "colab": {
          "base_uri": "https://localhost:8080/"
        },
        "id": "A56C7upFN495",
        "outputId": "b8d43027-dd44-4bda-bc3c-e02bdac87a24"
      },
      "execution_count": null,
      "outputs": [
        {
          "output_type": "stream",
          "name": "stdout",
          "text": [
            "Full Features:  ['variance', 'skewness', 'curtosis', 'entropy']\n",
            "Target:  ['isAuthentic']\n"
          ]
        }
      ]
    },
    {
      "cell_type": "code",
      "source": [
        "# test_data=data[:400]\n",
        "# train_data=data[400:]\n",
        "# train=[]\n",
        "# target=[]\n",
        "\n",
        "X_train, X_test, y_train, y_test = train_test_split(data[Features], data[Target], test_size = 0.10, random_state = 5)\n",
        "print(X_train.shape)\n",
        "print(X_test.shape)"
      ],
      "metadata": {
        "id": "63mraWrMiCnr",
        "colab": {
          "base_uri": "https://localhost:8080/"
        },
        "outputId": "3fd98c9c-b1e5-4dc5-8b88-b16d4d949323"
      },
      "execution_count": null,
      "outputs": [
        {
          "output_type": "stream",
          "name": "stdout",
          "text": [
            "(1234, 4)\n",
            "(138, 4)\n"
          ]
        }
      ]
    },
    {
      "cell_type": "code",
      "source": [
        "import tensorflow as tf\n",
        "from tensorflow import keras\n",
        "from tensorflow.keras import layers"
      ],
      "metadata": {
        "id": "ORQ7IQTAinXL"
      },
      "execution_count": null,
      "outputs": []
    },
    {
      "cell_type": "code",
      "source": [
        "model = tf.keras.Sequential()\n",
        "model.add(layers.Dense(15, activation='relu'))\n",
        "model.add(layers.Dense(1,activation='sigmoid'))"
      ],
      "metadata": {
        "id": "3bRycWIjjUXV"
      },
      "execution_count": null,
      "outputs": []
    },
    {
      "cell_type": "code",
      "source": [
        "from keras import backend as K\n",
        "\n",
        "def recall_m(y_true, y_pred):\n",
        "    true_positives = K.sum(K.round(K.clip(y_true * y_pred, 0, 1)))\n",
        "    possible_positives = K.sum(K.round(K.clip(y_true, 0, 1)))\n",
        "    recall = true_positives / (possible_positives + K.epsilon())\n",
        "    return recall\n",
        "\n",
        "def precision_m(y_true, y_pred):\n",
        "    true_positives = K.sum(K.round(K.clip(y_true * y_pred, 0, 1)))\n",
        "    predicted_positives = K.sum(K.round(K.clip(y_pred, 0, 1)))\n",
        "    precision = true_positives / (predicted_positives + K.epsilon())\n",
        "    return precision\n",
        "\n",
        "def f1_m(y_true, y_pred):\n",
        "    precision = precision_m(y_true, y_pred)\n",
        "    recall = recall_m(y_true, y_pred)\n",
        "    return 2*((precision*recall)/(precision+recall+K.epsilon()))\n",
        "    \n",
        "# compile the model\n",
        "model.compile(optimizer='adam', loss='binary_crossentropy', metrics=['accuracy',f1_m,precision_m, recall_m])\n",
        "# model.compile(optimizer='adam', loss='binary_crossentropy', metrics=['accuracy',f1_m])\n"
      ],
      "metadata": {
        "id": "oS5EYGm3U3oZ"
      },
      "execution_count": null,
      "outputs": []
    },
    {
      "cell_type": "code",
      "source": [
        "start_time = time.time()\n",
        "model.fit(X_train, y_train, epochs=15)\n",
        "# model.fit(X_train, y_train)\n",
        "elapsed_time = time.time() - start_time\n",
        "print(\"Training Time  : {:.2}\".format(elapsed_time))"
      ],
      "metadata": {
        "colab": {
          "base_uri": "https://localhost:8080/"
        },
        "id": "InVscTr_m_rT",
        "outputId": "8e8eb666-df24-4c32-99a0-c5af1b19014f"
      },
      "execution_count": null,
      "outputs": [
        {
          "output_type": "stream",
          "name": "stdout",
          "text": [
            "Epoch 1/15\n",
            "39/39 [==============================] - 1s 5ms/step - loss: 0.7848 - accuracy: 0.6135 - f1_m: 0.6827 - precision_m: 0.5353 - recall_m: 0.9761\n",
            "Epoch 2/15\n",
            "39/39 [==============================] - 0s 5ms/step - loss: 0.4957 - accuracy: 0.7755 - f1_m: 0.7655 - precision_m: 0.6900 - recall_m: 0.8746\n",
            "Epoch 3/15\n",
            "39/39 [==============================] - 0s 4ms/step - loss: 0.3628 - accuracy: 0.8809 - f1_m: 0.8575 - precision_m: 0.8782 - recall_m: 0.8501\n",
            "Epoch 4/15\n",
            "39/39 [==============================] - 0s 4ms/step - loss: 0.2895 - accuracy: 0.9222 - f1_m: 0.9020 - precision_m: 0.9541 - recall_m: 0.8621\n",
            "Epoch 5/15\n",
            "39/39 [==============================] - 0s 4ms/step - loss: 0.2367 - accuracy: 0.9384 - f1_m: 0.9214 - precision_m: 0.9664 - recall_m: 0.8852\n",
            "Epoch 6/15\n",
            "39/39 [==============================] - 0s 5ms/step - loss: 0.1963 - accuracy: 0.9571 - f1_m: 0.9499 - precision_m: 0.9688 - recall_m: 0.9358\n",
            "Epoch 7/15\n",
            "39/39 [==============================] - 0s 5ms/step - loss: 0.1648 - accuracy: 0.9733 - f1_m: 0.9669 - precision_m: 0.9699 - recall_m: 0.9663\n",
            "Epoch 8/15\n",
            "39/39 [==============================] - 0s 4ms/step - loss: 0.1403 - accuracy: 0.9814 - f1_m: 0.9780 - precision_m: 0.9763 - recall_m: 0.9812\n",
            "Epoch 9/15\n",
            "39/39 [==============================] - 0s 5ms/step - loss: 0.1211 - accuracy: 0.9846 - f1_m: 0.9816 - precision_m: 0.9781 - recall_m: 0.9865\n",
            "Epoch 10/15\n",
            "39/39 [==============================] - 0s 5ms/step - loss: 0.1055 - accuracy: 0.9862 - f1_m: 0.9846 - precision_m: 0.9770 - recall_m: 0.9932\n",
            "Epoch 11/15\n",
            "39/39 [==============================] - 0s 5ms/step - loss: 0.0930 - accuracy: 0.9870 - f1_m: 0.9849 - precision_m: 0.9786 - recall_m: 0.9926\n",
            "Epoch 12/15\n",
            "39/39 [==============================] - 0s 4ms/step - loss: 0.0831 - accuracy: 0.9887 - f1_m: 0.9878 - precision_m: 0.9832 - recall_m: 0.9934\n",
            "Epoch 13/15\n",
            "39/39 [==============================] - 0s 4ms/step - loss: 0.0746 - accuracy: 0.9895 - f1_m: 0.9882 - precision_m: 0.9827 - recall_m: 0.9943\n",
            "Epoch 14/15\n",
            "39/39 [==============================] - 0s 4ms/step - loss: 0.0677 - accuracy: 0.9911 - f1_m: 0.9883 - precision_m: 0.9821 - recall_m: 0.9955\n",
            "Epoch 15/15\n",
            "39/39 [==============================] - 0s 4ms/step - loss: 0.0618 - accuracy: 0.9927 - f1_m: 0.9920 - precision_m: 0.9886 - recall_m: 0.9959\n",
            "Training Time  : 5.9\n"
          ]
        }
      ]
    },
    {
      "cell_type": "code",
      "source": [
        "start_time = time.time()\n",
        "model.evaluate(X_test,  y_test, verbose=2)\n",
        "elapsed_time = time.time() - start_time\n",
        "print(\"Evaluation Time  : {:.2}\".format(elapsed_time))"
      ],
      "metadata": {
        "colab": {
          "base_uri": "https://localhost:8080/"
        },
        "id": "L6FbsHJ0nKgi",
        "outputId": "0880beb6-1658-499f-e828-c28ba06d77b5"
      },
      "execution_count": null,
      "outputs": [
        {
          "output_type": "stream",
          "name": "stdout",
          "text": [
            "5/5 - 0s - loss: 0.0610 - accuracy: 1.0000 - f1_m: 1.0000 - precision_m: 1.0000 - recall_m: 1.0000 - 258ms/epoch - 52ms/step\n",
            "Evaluation Time  : 0.32\n"
          ]
        }
      ]
    },
    {
      "cell_type": "code",
      "source": [
        "rnn = tf.keras.Sequential()\n",
        "rnn.add(keras.Input(shape=(4,1)))\n",
        "rnn.add(layers.LSTM(16))\n",
        "rnn.add(layers.Dense(1,activation='sigmoid'))"
      ],
      "metadata": {
        "id": "vjsyLFi-4dhO"
      },
      "execution_count": null,
      "outputs": []
    },
    {
      "cell_type": "code",
      "source": [
        "# rnn.compile(optimizer='adam',loss=\"binary_crossentropy\",metrics=['accuracy'])\n",
        "rnn.compile(optimizer='adam', loss='binary_crossentropy', metrics=['accuracy',f1_m,precision_m, recall_m])"
      ],
      "metadata": {
        "id": "6q2GrP9_5-j1"
      },
      "execution_count": null,
      "outputs": []
    },
    {
      "cell_type": "code",
      "source": [
        "start_time = time.time()\n",
        "rnn.fit(X_train, y_train, epochs=20)\n",
        "elapsed_time = time.time() - start_time\n",
        "print(\"Training Time  : {:.2}\".format(elapsed_time))"
      ],
      "metadata": {
        "colab": {
          "base_uri": "https://localhost:8080/"
        },
        "id": "kWVQY1cN6B1b",
        "outputId": "8889c8de-ad69-4060-f482-05a8f4d7d6bd"
      },
      "execution_count": null,
      "outputs": [
        {
          "output_type": "stream",
          "name": "stdout",
          "text": [
            "Epoch 1/20\n",
            "39/39 [==============================] - 3s 6ms/step - loss: 0.6332 - accuracy: 0.6694 - f1_m: 0.3822 - precision_m: 1.0000 - recall_m: 0.2442\n",
            "Epoch 2/20\n",
            "39/39 [==============================] - 0s 6ms/step - loss: 0.5217 - accuracy: 0.7431 - f1_m: 0.5717 - precision_m: 0.9957 - recall_m: 0.4174\n",
            "Epoch 3/20\n",
            "39/39 [==============================] - 0s 6ms/step - loss: 0.3832 - accuracy: 0.9052 - f1_m: 0.8715 - precision_m: 0.9689 - recall_m: 0.8112\n",
            "Epoch 4/20\n",
            "39/39 [==============================] - 0s 6ms/step - loss: 0.2624 - accuracy: 0.9595 - f1_m: 0.9508 - precision_m: 0.9554 - recall_m: 0.9497\n",
            "Epoch 5/20\n",
            "39/39 [==============================] - 0s 6ms/step - loss: 0.1950 - accuracy: 0.9473 - f1_m: 0.9377 - precision_m: 0.9215 - recall_m: 0.9588\n",
            "Epoch 6/20\n",
            "39/39 [==============================] - 0s 6ms/step - loss: 0.1601 - accuracy: 0.9489 - f1_m: 0.9417 - precision_m: 0.9343 - recall_m: 0.9532\n",
            "Epoch 7/20\n",
            "39/39 [==============================] - 0s 6ms/step - loss: 0.1404 - accuracy: 0.9538 - f1_m: 0.9461 - precision_m: 0.9371 - recall_m: 0.9595\n",
            "Epoch 8/20\n",
            "39/39 [==============================] - 0s 6ms/step - loss: 0.1284 - accuracy: 0.9562 - f1_m: 0.9494 - precision_m: 0.9342 - recall_m: 0.9693\n",
            "Epoch 9/20\n",
            "39/39 [==============================] - 0s 6ms/step - loss: 0.1195 - accuracy: 0.9635 - f1_m: 0.9584 - precision_m: 0.9450 - recall_m: 0.9751\n",
            "Epoch 10/20\n",
            "39/39 [==============================] - 0s 6ms/step - loss: 0.1133 - accuracy: 0.9627 - f1_m: 0.9557 - precision_m: 0.9464 - recall_m: 0.9688\n",
            "Epoch 11/20\n",
            "39/39 [==============================] - 0s 6ms/step - loss: 0.1070 - accuracy: 0.9652 - f1_m: 0.9593 - precision_m: 0.9491 - recall_m: 0.9713\n",
            "Epoch 12/20\n",
            "39/39 [==============================] - 0s 6ms/step - loss: 0.1026 - accuracy: 0.9652 - f1_m: 0.9591 - precision_m: 0.9443 - recall_m: 0.9770\n",
            "Epoch 13/20\n",
            "39/39 [==============================] - 0s 6ms/step - loss: 0.0998 - accuracy: 0.9635 - f1_m: 0.9572 - precision_m: 0.9440 - recall_m: 0.9738\n",
            "Epoch 14/20\n",
            "39/39 [==============================] - 0s 6ms/step - loss: 0.0951 - accuracy: 0.9668 - f1_m: 0.9637 - precision_m: 0.9517 - recall_m: 0.9788\n",
            "Epoch 15/20\n",
            "39/39 [==============================] - 0s 6ms/step - loss: 0.0905 - accuracy: 0.9684 - f1_m: 0.9631 - precision_m: 0.9472 - recall_m: 0.9818\n",
            "Epoch 16/20\n",
            "39/39 [==============================] - 0s 6ms/step - loss: 0.0876 - accuracy: 0.9676 - f1_m: 0.9627 - precision_m: 0.9435 - recall_m: 0.9849\n",
            "Epoch 17/20\n",
            "39/39 [==============================] - 0s 6ms/step - loss: 0.0841 - accuracy: 0.9708 - f1_m: 0.9625 - precision_m: 0.9457 - recall_m: 0.9828\n",
            "Epoch 18/20\n",
            "39/39 [==============================] - 0s 6ms/step - loss: 0.0815 - accuracy: 0.9708 - f1_m: 0.9628 - precision_m: 0.9478 - recall_m: 0.9824\n",
            "Epoch 19/20\n",
            "39/39 [==============================] - 0s 6ms/step - loss: 0.0777 - accuracy: 0.9749 - f1_m: 0.9690 - precision_m: 0.9551 - recall_m: 0.9859\n",
            "Epoch 20/20\n",
            "39/39 [==============================] - 0s 6ms/step - loss: 0.0744 - accuracy: 0.9781 - f1_m: 0.9716 - precision_m: 0.9559 - recall_m: 0.9909\n",
            "Training Time  : 7.3\n"
          ]
        }
      ]
    },
    {
      "cell_type": "code",
      "source": [
        "# test_loss, test_acc = rnn.evaluate(X_test,  y_test, verbose=2)\n",
        "start_time = time.time()\n",
        "rnn.evaluate(X_test,  y_test, verbose=2)\n",
        "elapsed_time = time.time() - start_time\n",
        "print(\"Evaluation Time  : {:.2}\".format(elapsed_time))"
      ],
      "metadata": {
        "colab": {
          "base_uri": "https://localhost:8080/"
        },
        "id": "H63b5u096SmP",
        "outputId": "c1a4c2c1-a3fb-42d7-ac69-c4fd08a6dcb6"
      },
      "execution_count": null,
      "outputs": [
        {
          "output_type": "stream",
          "name": "stdout",
          "text": [
            "5/5 - 1s - loss: 0.0852 - accuracy: 0.9710 - f1_m: 0.9681 - precision_m: 0.9515 - recall_m: 0.9882 - 659ms/epoch - 132ms/step\n",
            "Evaluation Time  : 0.72\n"
          ]
        }
      ]
    }
  ]
}